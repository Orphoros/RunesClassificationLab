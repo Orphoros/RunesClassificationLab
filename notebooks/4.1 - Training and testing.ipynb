{
 "cells": [
  {
   "cell_type": "markdown",
   "metadata": {},
   "source": [
    "# 4.1 Training and testing\n",
    "\n",
    "In this step we create our kNN model based on the data we extracted in 3.1 (manual feature selection)"
   ]
  },
  {
   "cell_type": "markdown",
   "metadata": {},
   "source": [
    "### 1. Adding the libraries we need"
   ]
  },
  {
   "cell_type": "code",
   "execution_count": 1,
   "metadata": {},
   "outputs": [],
   "source": [
    "import os\n",
    "import pickle\n",
    "import pandas as pd\n",
    "import numpy as np\n",
    "from sklearn.neighbors import KNeighborsClassifier\n",
    "from sklearn.model_selection import cross_val_score,train_test_split\n",
    "from sklearn.metrics import confusion_matrix\n",
    "from sklearn.metrics import accuracy_score\n",
    "from sklearn.model_selection import GridSearchCV\n",
    "import matplotlib.pyplot as plt\n",
    "import seaborn as sns\n",
    "import warnings\n",
    "\n",
    "warnings.filterwarnings('ignore')"
   ]
  },
  {
   "cell_type": "markdown",
   "metadata": {},
   "source": [
    "### 2. Read in the feature dataset from the result of 3.1 notebook"
   ]
  },
  {
   "cell_type": "code",
   "execution_count": 2,
   "metadata": {},
   "outputs": [
    {
     "data": {
      "text/html": [
       "<div>\n",
       "<style scoped>\n",
       "    .dataframe tbody tr th:only-of-type {\n",
       "        vertical-align: middle;\n",
       "    }\n",
       "\n",
       "    .dataframe tbody tr th {\n",
       "        vertical-align: top;\n",
       "    }\n",
       "\n",
       "    .dataframe thead th {\n",
       "        text-align: right;\n",
       "    }\n",
       "</style>\n",
       "<table border=\"1\" class=\"dataframe\">\n",
       "  <thead>\n",
       "    <tr style=\"text-align: right;\">\n",
       "      <th></th>\n",
       "      <th>label</th>\n",
       "      <th>area</th>\n",
       "      <th>axis_major_length</th>\n",
       "      <th>axis_minor_length</th>\n",
       "      <th>eccentricity</th>\n",
       "      <th>h_sym_err_percent</th>\n",
       "      <th>v_sym_err_percent</th>\n",
       "    </tr>\n",
       "  </thead>\n",
       "  <tbody>\n",
       "    <tr>\n",
       "      <th>count</th>\n",
       "      <td>1446</td>\n",
       "      <td>1446.000000</td>\n",
       "      <td>1446.000000</td>\n",
       "      <td>1446.000000</td>\n",
       "      <td>1446.000000</td>\n",
       "      <td>1446.000000</td>\n",
       "      <td>1446.000000</td>\n",
       "    </tr>\n",
       "    <tr>\n",
       "      <th>unique</th>\n",
       "      <td>12</td>\n",
       "      <td>NaN</td>\n",
       "      <td>NaN</td>\n",
       "      <td>NaN</td>\n",
       "      <td>NaN</td>\n",
       "      <td>NaN</td>\n",
       "      <td>NaN</td>\n",
       "    </tr>\n",
       "    <tr>\n",
       "      <th>top</th>\n",
       "      <td>ash</td>\n",
       "      <td>NaN</td>\n",
       "      <td>NaN</td>\n",
       "      <td>NaN</td>\n",
       "      <td>NaN</td>\n",
       "      <td>NaN</td>\n",
       "      <td>NaN</td>\n",
       "    </tr>\n",
       "    <tr>\n",
       "      <th>freq</th>\n",
       "      <td>162</td>\n",
       "      <td>NaN</td>\n",
       "      <td>NaN</td>\n",
       "      <td>NaN</td>\n",
       "      <td>NaN</td>\n",
       "      <td>NaN</td>\n",
       "      <td>NaN</td>\n",
       "    </tr>\n",
       "    <tr>\n",
       "      <th>mean</th>\n",
       "      <td>NaN</td>\n",
       "      <td>5940.992393</td>\n",
       "      <td>143.654948</td>\n",
       "      <td>103.994480</td>\n",
       "      <td>0.651062</td>\n",
       "      <td>0.309205</td>\n",
       "      <td>0.351002</td>\n",
       "    </tr>\n",
       "    <tr>\n",
       "      <th>std</th>\n",
       "      <td>NaN</td>\n",
       "      <td>1285.099755</td>\n",
       "      <td>16.419462</td>\n",
       "      <td>14.134005</td>\n",
       "      <td>0.146175</td>\n",
       "      <td>0.081994</td>\n",
       "      <td>0.128166</td>\n",
       "    </tr>\n",
       "    <tr>\n",
       "      <th>min</th>\n",
       "      <td>NaN</td>\n",
       "      <td>1469.000000</td>\n",
       "      <td>110.482240</td>\n",
       "      <td>14.198591</td>\n",
       "      <td>0.105603</td>\n",
       "      <td>0.052680</td>\n",
       "      <td>0.030307</td>\n",
       "    </tr>\n",
       "    <tr>\n",
       "      <th>25%</th>\n",
       "      <td>NaN</td>\n",
       "      <td>4995.250000</td>\n",
       "      <td>132.102996</td>\n",
       "      <td>94.669247</td>\n",
       "      <td>0.564980</td>\n",
       "      <td>0.256113</td>\n",
       "      <td>0.254683</td>\n",
       "    </tr>\n",
       "    <tr>\n",
       "      <th>50%</th>\n",
       "      <td>NaN</td>\n",
       "      <td>5950.500000</td>\n",
       "      <td>141.979676</td>\n",
       "      <td>102.965786</td>\n",
       "      <td>0.673206</td>\n",
       "      <td>0.311785</td>\n",
       "      <td>0.358025</td>\n",
       "    </tr>\n",
       "    <tr>\n",
       "      <th>75%</th>\n",
       "      <td>NaN</td>\n",
       "      <td>6802.500000</td>\n",
       "      <td>153.354823</td>\n",
       "      <td>114.501330</td>\n",
       "      <td>0.755008</td>\n",
       "      <td>0.362350</td>\n",
       "      <td>0.451873</td>\n",
       "    </tr>\n",
       "    <tr>\n",
       "      <th>max</th>\n",
       "      <td>NaN</td>\n",
       "      <td>13978.000000</td>\n",
       "      <td>202.711313</td>\n",
       "      <td>146.320376</td>\n",
       "      <td>0.995135</td>\n",
       "      <td>0.557102</td>\n",
       "      <td>0.636446</td>\n",
       "    </tr>\n",
       "  </tbody>\n",
       "</table>\n",
       "</div>"
      ],
      "text/plain": [
       "       label          area  axis_major_length  axis_minor_length  \\\n",
       "count   1446   1446.000000        1446.000000        1446.000000   \n",
       "unique    12           NaN                NaN                NaN   \n",
       "top      ash           NaN                NaN                NaN   \n",
       "freq     162           NaN                NaN                NaN   \n",
       "mean     NaN   5940.992393         143.654948         103.994480   \n",
       "std      NaN   1285.099755          16.419462          14.134005   \n",
       "min      NaN   1469.000000         110.482240          14.198591   \n",
       "25%      NaN   4995.250000         132.102996          94.669247   \n",
       "50%      NaN   5950.500000         141.979676         102.965786   \n",
       "75%      NaN   6802.500000         153.354823         114.501330   \n",
       "max      NaN  13978.000000         202.711313         146.320376   \n",
       "\n",
       "        eccentricity  h_sym_err_percent  v_sym_err_percent  \n",
       "count    1446.000000        1446.000000        1446.000000  \n",
       "unique           NaN                NaN                NaN  \n",
       "top              NaN                NaN                NaN  \n",
       "freq             NaN                NaN                NaN  \n",
       "mean        0.651062           0.309205           0.351002  \n",
       "std         0.146175           0.081994           0.128166  \n",
       "min         0.105603           0.052680           0.030307  \n",
       "25%         0.564980           0.256113           0.254683  \n",
       "50%         0.673206           0.311785           0.358025  \n",
       "75%         0.755008           0.362350           0.451873  \n",
       "max         0.995135           0.557102           0.636446  "
      ]
     },
     "execution_count": 2,
     "metadata": {},
     "output_type": "execute_result"
    }
   ],
   "source": [
    "directory = \"../dataset-numpy/\"\n",
    "\n",
    "dataset = pd.read_csv(os.path.join(directory, '3.1 - features.csv'), delimiter=',', header=0)\n",
    "\n",
    "dataset.describe(include='all')"
   ]
  },
  {
   "cell_type": "markdown",
   "metadata": {},
   "source": [
    "### 3. Create training and testing datasets\n",
    "\n",
    "We will use the `train_test_split` function from `sklearn` to split the dataset into training and testing datasets. We will use 75% of the data for training and 25% for testing."
   ]
  },
  {
   "cell_type": "code",
   "execution_count": 3,
   "metadata": {},
   "outputs": [],
   "source": [
    "X = dataset.loc[:, dataset.columns != 'label'] # Features\n",
    "y = dataset.loc[:, dataset.columns == 'label'] # Target\n",
    "\n",
    "rnd_state = 42 # Random state for reproducibility\n",
    "\n",
    "X_train, X_test, y_train, y_test = train_test_split(X, y, train_size=0.75, random_state=rnd_state)"
   ]
  },
  {
   "cell_type": "markdown",
   "metadata": {},
   "source": [
    "### 4. Scale the data\n",
    "\n",
    "For kNN, we want to make sure that all data points are on the same scale, so no value is dominating. We will use the `MinMaxScaler` function from `sklearn` to scale the data. We scale the data in this step, as the scaler works best on data that is split into X and y (which is part of the training and testing process)."
   ]
  },
  {
   "cell_type": "code",
   "execution_count": 4,
   "metadata": {},
   "outputs": [],
   "source": [
    "# load in the scaler\n",
    "scaler_path = os.path.join(\"../classifiers/\", '3.1 - scaler.pkl')\n",
    "with open(scaler_path, 'rb') as file:\n",
    "    scaler = pickle.load(file)\n",
    "\n",
    "X_train = scaler.transform(X_train)\n",
    "X_test = scaler.transform(X_test)"
   ]
  },
  {
   "cell_type": "markdown",
   "metadata": {},
   "source": [
    "### 5. Find the best hyperparameters\n",
    "\n",
    "kNN has a lot of hyperparameters that we can tune. We will use the `GridSearchCV` function from `sklearn` to find the best hyperparameters for our model. We will use 5-fold cross validation to find the best hyperparameters."
   ]
  },
  {
   "cell_type": "code",
   "execution_count": 5,
   "metadata": {},
   "outputs": [
    {
     "name": "stdout",
     "output_type": "stream",
     "text": [
      "Best parameters set found on development set:\n",
      "{'algorithm': 'auto', 'leaf_size': 1, 'n_neighbors': 12, 'p': 1, 'weights': 'distance'}\n"
     ]
    }
   ],
   "source": [
    "parameters = {\n",
    "    'n_neighbors':range(1, 20),\n",
    "    'weights':['uniform', 'distance'],\n",
    "    'algorithm':['auto', 'ball_tree', 'kd_tree', 'brute'],\n",
    "    'leaf_size':range(1, 10),\n",
    "    'p':[1,2]\n",
    "}\n",
    "\n",
    "testing_knn = KNeighborsClassifier()\n",
    "\n",
    "clf = GridSearchCV(testing_knn, parameters, cv=5, scoring='accuracy')\n",
    "\n",
    "clf.fit(X_train, y_train)\n",
    "\n",
    "print(\"Best parameters set found on development set:\")\n",
    "print(clf.best_params_)"
   ]
  },
  {
   "cell_type": "markdown",
   "metadata": {},
   "source": [
    "### 6. Creating and fitting model\n",
    "\n",
    "We create and train the kNN model with our training dataset using the best hyperparameters we found in the previous step."
   ]
  },
  {
   "cell_type": "code",
   "execution_count": 6,
   "metadata": {},
   "outputs": [
    {
     "data": {
      "text/html": [
       "<style>#sk-container-id-1 {color: black;}#sk-container-id-1 pre{padding: 0;}#sk-container-id-1 div.sk-toggleable {background-color: white;}#sk-container-id-1 label.sk-toggleable__label {cursor: pointer;display: block;width: 100%;margin-bottom: 0;padding: 0.3em;box-sizing: border-box;text-align: center;}#sk-container-id-1 label.sk-toggleable__label-arrow:before {content: \"▸\";float: left;margin-right: 0.25em;color: #696969;}#sk-container-id-1 label.sk-toggleable__label-arrow:hover:before {color: black;}#sk-container-id-1 div.sk-estimator:hover label.sk-toggleable__label-arrow:before {color: black;}#sk-container-id-1 div.sk-toggleable__content {max-height: 0;max-width: 0;overflow: hidden;text-align: left;background-color: #f0f8ff;}#sk-container-id-1 div.sk-toggleable__content pre {margin: 0.2em;color: black;border-radius: 0.25em;background-color: #f0f8ff;}#sk-container-id-1 input.sk-toggleable__control:checked~div.sk-toggleable__content {max-height: 200px;max-width: 100%;overflow: auto;}#sk-container-id-1 input.sk-toggleable__control:checked~label.sk-toggleable__label-arrow:before {content: \"▾\";}#sk-container-id-1 div.sk-estimator input.sk-toggleable__control:checked~label.sk-toggleable__label {background-color: #d4ebff;}#sk-container-id-1 div.sk-label input.sk-toggleable__control:checked~label.sk-toggleable__label {background-color: #d4ebff;}#sk-container-id-1 input.sk-hidden--visually {border: 0;clip: rect(1px 1px 1px 1px);clip: rect(1px, 1px, 1px, 1px);height: 1px;margin: -1px;overflow: hidden;padding: 0;position: absolute;width: 1px;}#sk-container-id-1 div.sk-estimator {font-family: monospace;background-color: #f0f8ff;border: 1px dotted black;border-radius: 0.25em;box-sizing: border-box;margin-bottom: 0.5em;}#sk-container-id-1 div.sk-estimator:hover {background-color: #d4ebff;}#sk-container-id-1 div.sk-parallel-item::after {content: \"\";width: 100%;border-bottom: 1px solid gray;flex-grow: 1;}#sk-container-id-1 div.sk-label:hover label.sk-toggleable__label {background-color: #d4ebff;}#sk-container-id-1 div.sk-serial::before {content: \"\";position: absolute;border-left: 1px solid gray;box-sizing: border-box;top: 0;bottom: 0;left: 50%;z-index: 0;}#sk-container-id-1 div.sk-serial {display: flex;flex-direction: column;align-items: center;background-color: white;padding-right: 0.2em;padding-left: 0.2em;position: relative;}#sk-container-id-1 div.sk-item {position: relative;z-index: 1;}#sk-container-id-1 div.sk-parallel {display: flex;align-items: stretch;justify-content: center;background-color: white;position: relative;}#sk-container-id-1 div.sk-item::before, #sk-container-id-1 div.sk-parallel-item::before {content: \"\";position: absolute;border-left: 1px solid gray;box-sizing: border-box;top: 0;bottom: 0;left: 50%;z-index: -1;}#sk-container-id-1 div.sk-parallel-item {display: flex;flex-direction: column;z-index: 1;position: relative;background-color: white;}#sk-container-id-1 div.sk-parallel-item:first-child::after {align-self: flex-end;width: 50%;}#sk-container-id-1 div.sk-parallel-item:last-child::after {align-self: flex-start;width: 50%;}#sk-container-id-1 div.sk-parallel-item:only-child::after {width: 0;}#sk-container-id-1 div.sk-dashed-wrapped {border: 1px dashed gray;margin: 0 0.4em 0.5em 0.4em;box-sizing: border-box;padding-bottom: 0.4em;background-color: white;}#sk-container-id-1 div.sk-label label {font-family: monospace;font-weight: bold;display: inline-block;line-height: 1.2em;}#sk-container-id-1 div.sk-label-container {text-align: center;}#sk-container-id-1 div.sk-container {/* jupyter's `normalize.less` sets `[hidden] { display: none; }` but bootstrap.min.css set `[hidden] { display: none !important; }` so we also need the `!important` here to be able to override the default hidden behavior on the sphinx rendered scikit-learn.org. See: https://github.com/scikit-learn/scikit-learn/issues/21755 */display: inline-block !important;position: relative;}#sk-container-id-1 div.sk-text-repr-fallback {display: none;}</style><div id=\"sk-container-id-1\" class=\"sk-top-container\"><div class=\"sk-text-repr-fallback\"><pre>KNeighborsClassifier(leaf_size=1, n_neighbors=12, p=1, weights=&#x27;distance&#x27;)</pre><b>In a Jupyter environment, please rerun this cell to show the HTML representation or trust the notebook. <br />On GitHub, the HTML representation is unable to render, please try loading this page with nbviewer.org.</b></div><div class=\"sk-container\" hidden><div class=\"sk-item\"><div class=\"sk-estimator sk-toggleable\"><input class=\"sk-toggleable__control sk-hidden--visually\" id=\"sk-estimator-id-1\" type=\"checkbox\" checked><label for=\"sk-estimator-id-1\" class=\"sk-toggleable__label sk-toggleable__label-arrow\">KNeighborsClassifier</label><div class=\"sk-toggleable__content\"><pre>KNeighborsClassifier(leaf_size=1, n_neighbors=12, p=1, weights=&#x27;distance&#x27;)</pre></div></div></div></div></div>"
      ],
      "text/plain": [
       "KNeighborsClassifier(leaf_size=1, n_neighbors=12, p=1, weights='distance')"
      ]
     },
     "execution_count": 6,
     "metadata": {},
     "output_type": "execute_result"
    }
   ],
   "source": [
    "knn = KNeighborsClassifier(**clf.best_params_)\n",
    "\n",
    "accuracy_scores = cross_val_score(knn, X_train, y_train, cv=5)\n",
    "\n",
    "knn.fit(X_train, y_train.values.ravel())"
   ]
  },
  {
   "cell_type": "markdown",
   "metadata": {},
   "source": [
    "### 7. Making predictions\n",
    "\n",
    "Now we can make prediction. We attempt to predict each of our testing dataset and see how well our model performs. We print out the accuracy score and the confusion matrix to see how well our model performs and what runes get confused with each other."
   ]
  },
  {
   "cell_type": "code",
   "execution_count": 7,
   "metadata": {},
   "outputs": [
    {
     "data": {
      "image/png": "[encoded data removed]",
      "text/plain": [
       "<Figure size 1000x1000 with 2 Axes>"
      ]
     },
     "metadata": {},
     "output_type": "display_data"
    }
   ],
   "source": [
    "y_pred = knn.predict(X_test)\n",
    "\n",
    "labels = ['oak', 'need', 'elk-sedge', 'spear', 'tyr', 'gift', 'bow', 'sun', 'ash', 'wealth', 'joy', 'serpent'] # used to make sure the confusion matrix is in the correct order\n",
    "\n",
    "cm = confusion_matrix(y_test, y_pred, labels=labels)\n",
    "\n",
    "score = accuracy_score(y_test, y_pred)*100\n",
    "\n",
    "plt.figure(figsize=(10, 10))\n",
    "sns.heatmap(cm, annot=True, fmt=\"d\", linewidths=.5, square=True, cmap='Blues_r', xticklabels=labels, yticklabels=labels)\n",
    "plt.ylabel('Actual label')\n",
    "plt.xlabel('Predicted label')\n",
    "plt.title('Accuracy Score: {0}%'.format(score), size=15)\n",
    "plt.show()\n"
   ]
  },
  {
   "cell_type": "markdown",
   "metadata": {},
   "source": [
    "As we can see from the above confusion matrix, our model got some confusion. The model confused `tyr`, `elk-sedge`, `spear`, `ash`, `joy`, and `wealth` the most often. This is likely because we only selected 6 features in total."
   ]
  },
  {
   "cell_type": "markdown",
   "metadata": {},
   "source": [
    "Now, let's see if our model is overfitting. We take the scores from using kfold on our model and checking for extreme differences between the individual accuracy scores and the standard deviation of the accuracy scores."
   ]
  },
  {
   "cell_type": "code",
   "execution_count": 8,
   "metadata": {},
   "outputs": [
    {
     "name": "stdout",
     "output_type": "stream",
     "text": [
      "Fold 1 - Accuracy score: 0.7188940092165899\n",
      "Fold 2 - Accuracy score: 0.6820276497695853\n",
      "Fold 3 - Accuracy score: 0.7188940092165899\n",
      "Fold 4 - Accuracy score: 0.728110599078341\n",
      "Fold 5 - Accuracy score: 0.7546296296296297\n",
      "\n",
      "Maximum difference between accuracy scores 0.07\n",
      "Standard Deviation of accuracy scores: 0.02\n"
     ]
    }
   ],
   "source": [
    "# Print the individual scores to see if there are extreme differences\n",
    "for fold, score in enumerate(accuracy_scores):\n",
    "    print(f\"Fold {fold + 1} - Accuracy score: {score}\")\n",
    "print()\n",
    "\n",
    "# Print the difference between the smallest and largest score\n",
    "score_difference = max(accuracy_scores) - min(accuracy_scores)\n",
    "print(f\"Maximum difference between accuracy scores {score_difference:.2f}\")\n",
    "\n",
    "# Print the standard deviation to check the variability of the model\n",
    "deviation = np.std(accuracy_scores)\n",
    "print(f\"Standard Deviation of accuracy scores: {deviation:.2f}\")"
   ]
  },
  {
   "cell_type": "markdown",
   "metadata": {},
   "source": [
    "The maximum difference between accuracy scores is 7% with a standard deviation of 2%, meaning that there likely is some overfitting."
   ]
  },
  {
   "cell_type": "markdown",
   "metadata": {},
   "source": [
    "### 8. Save the model\n",
    "\n",
    "We binary serialize the model and save it to a file so we can use it later in our web app."
   ]
  },
  {
   "cell_type": "code",
   "execution_count": 9,
   "metadata": {},
   "outputs": [],
   "source": [
    "directory = \"../classifiers/\" \n",
    "path = os.path.join(directory, '4.1 - knn model.pkl')\n",
    "\n",
    "with open(path, 'wb') as file:\n",
    "    pickle.dump(knn, file)"
   ]
  }
 ],
 "metadata": {
  "kernelspec": {
   "display_name": "venv",
   "language": "python",
   "name": "python3"
  },
  "language_info": {
   "codemirror_mode": {
    "name": "ipython",
    "version": 3
   },
   "file_extension": ".py",
   "mimetype": "text/x-python",
   "name": "python",
   "nbconvert_exporter": "python",
   "pygments_lexer": "ipython3",
   "version": "3.11.6"
  }
 },
 "nbformat": 4,
 "nbformat_minor": 2
}
