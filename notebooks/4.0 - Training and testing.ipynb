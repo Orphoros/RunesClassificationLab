{
 "cells": [
  {
   "cell_type": "markdown",
   "metadata": {},
   "source": [
    "# 4.0 Training and testing\n",
    "\n",
    "Here we create a manual rune classifier using our 2 cleaned features: `num of regions` and `sum of black pixels`."
   ]
  },
  {
   "cell_type": "markdown",
   "metadata": {},
   "source": [
    "### 1. Adding the libraries we need"
   ]
  },
  {
   "cell_type": "code",
   "execution_count": 1,
   "metadata": {},
   "outputs": [],
   "source": [
    "import os\n",
    "import pickle\n",
    "import pandas as pd\n",
    "import matplotlib.pyplot as plt\n",
    "import seaborn as sns\n",
    "\n",
    "from sklearn.model_selection import train_test_split\n",
    "from sklearn.metrics import confusion_matrix, accuracy_score"
   ]
  },
  {
   "cell_type": "markdown",
   "metadata": {},
   "source": [
    "### 2. Read in the feature dataset from the result of 3.0 notebook"
   ]
  },
  {
   "cell_type": "code",
   "execution_count": 2,
   "metadata": {},
   "outputs": [
    {
     "data": {
      "text/html": [
       "<div>\n",
       "<style scoped>\n",
       "    .dataframe tbody tr th:only-of-type {\n",
       "        vertical-align: middle;\n",
       "    }\n",
       "\n",
       "    .dataframe tbody tr th {\n",
       "        vertical-align: top;\n",
       "    }\n",
       "\n",
       "    .dataframe thead th {\n",
       "        text-align: right;\n",
       "    }\n",
       "</style>\n",
       "<table border=\"1\" class=\"dataframe\">\n",
       "  <thead>\n",
       "    <tr style=\"text-align: right;\">\n",
       "      <th></th>\n",
       "      <th>label</th>\n",
       "      <th>black_pixels</th>\n",
       "      <th>regions</th>\n",
       "    </tr>\n",
       "  </thead>\n",
       "  <tbody>\n",
       "    <tr>\n",
       "      <th>count</th>\n",
       "      <td>1366</td>\n",
       "      <td>1366.000000</td>\n",
       "      <td>1366.000000</td>\n",
       "    </tr>\n",
       "    <tr>\n",
       "      <th>unique</th>\n",
       "      <td>12</td>\n",
       "      <td>NaN</td>\n",
       "      <td>NaN</td>\n",
       "    </tr>\n",
       "    <tr>\n",
       "      <th>top</th>\n",
       "      <td>ash</td>\n",
       "      <td>NaN</td>\n",
       "      <td>NaN</td>\n",
       "    </tr>\n",
       "    <tr>\n",
       "      <th>freq</th>\n",
       "      <td>154</td>\n",
       "      <td>NaN</td>\n",
       "      <td>NaN</td>\n",
       "    </tr>\n",
       "    <tr>\n",
       "      <th>mean</th>\n",
       "      <td>NaN</td>\n",
       "      <td>2684.899707</td>\n",
       "      <td>1.351391</td>\n",
       "    </tr>\n",
       "    <tr>\n",
       "      <th>std</th>\n",
       "      <td>NaN</td>\n",
       "      <td>842.105852</td>\n",
       "      <td>0.633227</td>\n",
       "    </tr>\n",
       "    <tr>\n",
       "      <th>min</th>\n",
       "      <td>NaN</td>\n",
       "      <td>810.000000</td>\n",
       "      <td>1.000000</td>\n",
       "    </tr>\n",
       "    <tr>\n",
       "      <th>25%</th>\n",
       "      <td>NaN</td>\n",
       "      <td>2108.000000</td>\n",
       "      <td>1.000000</td>\n",
       "    </tr>\n",
       "    <tr>\n",
       "      <th>50%</th>\n",
       "      <td>NaN</td>\n",
       "      <td>2484.500000</td>\n",
       "      <td>1.000000</td>\n",
       "    </tr>\n",
       "    <tr>\n",
       "      <th>75%</th>\n",
       "      <td>NaN</td>\n",
       "      <td>3099.000000</td>\n",
       "      <td>2.000000</td>\n",
       "    </tr>\n",
       "    <tr>\n",
       "      <th>max</th>\n",
       "      <td>NaN</td>\n",
       "      <td>5858.000000</td>\n",
       "      <td>3.000000</td>\n",
       "    </tr>\n",
       "  </tbody>\n",
       "</table>\n",
       "</div>"
      ],
      "text/plain": [
       "       label  black_pixels      regions\n",
       "count   1366   1366.000000  1366.000000\n",
       "unique    12           NaN          NaN\n",
       "top      ash           NaN          NaN\n",
       "freq     154           NaN          NaN\n",
       "mean     NaN   2684.899707     1.351391\n",
       "std      NaN    842.105852     0.633227\n",
       "min      NaN    810.000000     1.000000\n",
       "25%      NaN   2108.000000     1.000000\n",
       "50%      NaN   2484.500000     1.000000\n",
       "75%      NaN   3099.000000     2.000000\n",
       "max      NaN   5858.000000     3.000000"
      ]
     },
     "execution_count": 2,
     "metadata": {},
     "output_type": "execute_result"
    }
   ],
   "source": [
    "directory = \"../dataset-numpy/\"\n",
    "\n",
    "dataset = pd.read_csv(os.path.join(directory, '3.0 - features.csv'), delimiter=',', header=0)\n",
    "\n",
    "dataset.describe(include='all')"
   ]
  },
  {
   "cell_type": "markdown",
   "metadata": {},
   "source": [
    "### 3. Create training and testing datasets\n",
    "\n",
    "We will use the `train_test_split` function from `sklearn` to split the dataset into training and testing datasets. We will use 75% of the data for training and 25% for testing."
   ]
  },
  {
   "cell_type": "code",
   "execution_count": 3,
   "metadata": {},
   "outputs": [],
   "source": [
    "X = dataset.loc[:, dataset.columns != 'label']\n",
    "y = dataset.loc[:, dataset.columns == 'label']\n",
    "\n",
    "X_train, X_test, y_train, y_test = train_test_split(X, y, train_size=0.75, random_state=42) # 42 for random state so we always get the same split"
   ]
  },
  {
   "cell_type": "markdown",
   "metadata": {},
   "source": [
    "### 4. Creating the model\n",
    "\n",
    "Here we create our manual classifier. It is a Python class with 2 functions: `classify` - predicts a label, and `accuracy` - calculates model accuracy based on the provided testing and training dataset provided in the constructor.\n",
    "\n",
    "Our model classifies runes in the following way:\n",
    "\n",
    "1. First we provide the model a training dataset. This creates a lookup dictionary for our model, where the model can fetch a label based on the 2 given features.\n",
    "2. When we classify, we first filter images in our lookup dictionary where based on the region count.\n",
    "3. If we have an empty lookup table, that means we have a region count for which the model does not have a label. In this case we use all entries in the lookup table.\n",
    "4. After we have our filtered image lookup set, we find the closest entry based on black pixel count. That entry's label will be our prediction."
   ]
  },
  {
   "cell_type": "code",
   "execution_count": 4,
   "metadata": {},
   "outputs": [],
   "source": [
    "class RuneClassifier:\n",
    "    \"\"\"Manual Rune Classifier\n",
    "\n",
    "    This classifier uses the sum of black pixels and the count of regions to predict a rune\n",
    "\n",
    "    The `training_set` and `testing_set` contains the 2 features, and the `training_labels` and `testing_labels` contain only 1 column, the labels.\n",
    "    The 2 testing variables are required for calculating the accuracy.\n",
    "    \"\"\"\n",
    "    def __init__(self, training_set, training_labels, testing_set, testing_labels):\n",
    "        self.training_set = training_set\n",
    "        self.training_labels = training_labels\n",
    "        self.testing_set = testing_set\n",
    "        self.testing_labels = testing_labels\n",
    "\n",
    "        # for each unique label entry in training_labels, we have a dictionary of features with the value of 0\n",
    "        self.model = {label: {feature: 0 for feature in training_set.columns} for label in training_labels['label'].unique()}\n",
    "\n",
    "        # for each unique label entry in training_labels, we average the values of each feature in training_set and put it in the model\n",
    "        for label in self.model.keys():\n",
    "            self.model[label] = round(self.training_set[self.training_labels['label'] == label].mean(axis=0))\n",
    "\n",
    "    def classify(self, input):\n",
    "        \"\"\"Based on the `input`, predict what the rune might be.\n",
    "\n",
    "        The `input` is a tuple, where the first value is the sum of black pixels (int) and the second value is the count of regions (int)\n",
    "\n",
    "        Example: (12345, 5)\n",
    "\n",
    "        Returns: The name of the predicted rune (String)\n",
    "        \"\"\"\n",
    "        black_pixels, regions = input\n",
    "\n",
    "        # filter out items in model where regions do not equal to the regions in the input\n",
    "        filtered_model = {k: v for k, v in self.model.items() if v['regions'] == regions}\n",
    "\n",
    "        if len(filtered_model) == 0: # we check if we have no match for region count.\n",
    "            filtered_model = self.model # if we have no match, we just use the whole training set for black pixel distance counting\n",
    "\n",
    "        best_match_label = None\n",
    "        best_distance = float('inf') # we only want the lowest number, so we set the highest possible as base\n",
    "\n",
    "        # we try to find the closest match with black pixels, after we filtered our dataset based on the region count\n",
    "        for label, values  in filtered_model.items():\n",
    "            distance = abs(values['black_pixels'] - black_pixels)\n",
    "            if distance < best_distance: # we try to find the closest match\n",
    "                best_distance = distance\n",
    "                best_match_label = label\n",
    "\n",
    "        return best_match_label\n",
    "\n",
    "    def accuracy(self):\n",
    "        \"\"\"Calculate the accuracy of the model\n",
    "\n",
    "        Returns: float between 0 and 1, where 1 means 100% accuracy (all images were classified correctly)\n",
    "        \"\"\"\n",
    "        correct = 0\n",
    "        for index, row in enumerate(self.testing_set.values):\n",
    "            black_pixels, regions = row\n",
    "            prediction = self.classify((black_pixels, regions))\n",
    "            expected = self.testing_labels.values[index][0]\n",
    "            if prediction == expected:\n",
    "                correct += 1\n",
    "\n",
    "        return correct / len(self.testing_set)\n"
   ]
  },
  {
   "cell_type": "markdown",
   "metadata": {},
   "source": [
    "### 5. Fitting the model\n",
    "\n",
    "Here we give the training and testing dataset to our model to fit (train) it. We then attempt to predict a rune."
   ]
  },
  {
   "cell_type": "code",
   "execution_count": 5,
   "metadata": {},
   "outputs": [
    {
     "name": "stdout",
     "output_type": "stream",
     "text": [
      "spear\n"
     ]
    }
   ],
   "source": [
    "model = RuneClassifier(training_set=X_train, training_labels=y_train, testing_set=X_test, testing_labels=y_test)\n",
    "\n",
    "print(model.classify((4801, 3))) # we expect spear"
   ]
  },
  {
   "cell_type": "markdown",
   "metadata": {},
   "source": [
    "### 6. Testing the model's accuracy\n",
    "\n",
    "We now print the accuracy of our model"
   ]
  },
  {
   "cell_type": "code",
   "execution_count": 6,
   "metadata": {},
   "outputs": [
    {
     "name": "stdout",
     "output_type": "stream",
     "text": [
      "0.38011695906432746\n"
     ]
    }
   ],
   "source": [
    "print(model.accuracy())"
   ]
  },
  {
   "cell_type": "markdown",
   "metadata": {},
   "source": [
    "As we can see, our manual model is 38% accurate. This is because we only used 2 features, and 1 feature (count of regions) was always the same per category (overfitted)"
   ]
  },
  {
   "cell_type": "markdown",
   "metadata": {},
   "source": [
    "We also print the confusion matrix to see which images cased our model to be less accurate"
   ]
  },
  {
   "cell_type": "code",
   "execution_count": 7,
   "metadata": {},
   "outputs": [
    {
     "data": {
      "image/png": "[encoded data removed]",
      "text/plain": [
       "<Figure size 1000x1000 with 2 Axes>"
      ]
     },
     "metadata": {},
     "output_type": "display_data"
    }
   ],
   "source": [
    "labels = ['oak', 'need', 'elk-sedge', 'spear', 'tyr', 'gift', 'bow', 'sun', 'ash', 'wealth', 'joy', 'serpent']\n",
    "\n",
    "y_pred = []\n",
    "\n",
    "for _, row in X_test.iterrows():\n",
    "    black_pixels = row['black_pixels']\n",
    "    regions = row['regions']\n",
    "    y_pred.append(model.classify((black_pixels, regions)))\n",
    "\n",
    "cm = confusion_matrix(y_test, y_pred, labels=labels)\n",
    "\n",
    "score = accuracy_score(y_test, y_pred)*100\n",
    "\n",
    "plt.figure(figsize=(10, 10))\n",
    "sns.heatmap(cm, annot=True, fmt=\"d\", linewidths=.5, square=True, cmap='Blues_r', xticklabels=labels, yticklabels=labels)\n",
    "plt.ylabel('Actual label')\n",
    "plt.xlabel('Predicted label')\n",
    "plt.title('Accuracy Score: {0}%'.format(score), size=15)\n",
    "plt.show()"
   ]
  },
  {
   "cell_type": "markdown",
   "metadata": {},
   "source": [
    "We can see that our model could accurately predict `spear`, `bow` and `joy`. However, it had a lot of confusion for `ash` - `need`, `elk sedge` - `need`, etc. It seems, the model confused a lot of images with `need`, and it had troubles predicting `elk sedge` and `serpent`."
   ]
  },
  {
   "cell_type": "markdown",
   "metadata": {},
   "source": [
    "### 7. Save the model\n",
    "\n",
    "Using the Pickle library, we serialize our model into a binary file, so later on we can reuse it."
   ]
  },
  {
   "cell_type": "code",
   "execution_count": 8,
   "metadata": {},
   "outputs": [],
   "source": [
    "directory = \"../classifiers/\" \n",
    "path = os.path.join(directory, '4.0 - manual model.pkl')\n",
    "\n",
    "with open(path, 'wb') as file:\n",
    "    pickle.dump(model, file)"
   ]
  }
 ],
 "metadata": {
  "kernelspec": {
   "display_name": "venv",
   "language": "python",
   "name": "python3"
  },
  "language_info": {
   "codemirror_mode": {
    "name": "ipython",
    "version": 3
   },
   "file_extension": ".py",
   "mimetype": "text/x-python",
   "name": "python",
   "nbconvert_exporter": "python",
   "pygments_lexer": "ipython3",
   "version": "3.11.6"
  }
 },
 "nbformat": 4,
 "nbformat_minor": 2
}
